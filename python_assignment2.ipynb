{
 "cells": [
  {
   "cell_type": "code",
   "execution_count": 1,
   "id": "9bd07c0d",
   "metadata": {},
   "outputs": [
    {
     "name": "stdout",
     "output_type": "stream",
     "text": [
      "enter the number of kilometers:5\n",
      "5 km is = 3.106855\n"
     ]
    }
   ],
   "source": [
    "#kilometer to miles conversion\n",
    "kilometer=int(input(\"enter the number of kilometers:\"))\n",
    "#miles=int(input(\"enter the miles:\"))\n",
    "miles=kilometer*0.621371\n",
    "print(kilometer,\"km is =\",miles)\n"
   ]
  },
  {
   "cell_type": "code",
   "execution_count": 2,
   "id": "5af1899d",
   "metadata": {},
   "outputs": [
    {
     "name": "stdout",
     "output_type": "stream",
     "text": [
      "enter the celcius25\n",
      "25 = 77.0\n"
     ]
    }
   ],
   "source": [
    "#celcius to fahrenheit\n",
    "celcius=int(input(\"enter the celcius\"))\n",
    "fahrenheit=(celcius*9/5)+32\n",
    "print(celcius,\"=\",fahrenheit)"
   ]
  },
  {
   "cell_type": "code",
   "execution_count": 4,
   "id": "25cef313",
   "metadata": {},
   "outputs": [
    {
     "name": "stdout",
     "output_type": "stream",
     "text": [
      "enter a:6\n",
      "enter b:17\n",
      "enter c:12\n",
      "3.446834424526404e+19\n"
     ]
    }
   ],
   "source": [
    "#quadratic equation\n",
    "import math as m\n",
    "a=int(input(\"enter a:\"))\n",
    "b=int(input(\"enter b:\"))\n",
    "c=int(input(\"enter c:\"))\n",
    "x1=(b**b)-4*a*c\n",
    "y1=m.sqrt(x1)\n",
    "x=(-b+y1)/(2*a)\n",
    "z2=(-b-y1)/(2*a)\n",
    "equation=a*(x*x)+b*x+c\n",
    "\n",
    "print(equation)"
   ]
  },
  {
   "cell_type": "code",
   "execution_count": 5,
   "id": "df18d41d",
   "metadata": {},
   "outputs": [
    {
     "name": "stdout",
     "output_type": "stream",
     "text": [
      "6\n",
      "5\n"
     ]
    }
   ],
   "source": [
    "#swap two variables without temp variable\n",
    "a,b=5,6\n",
    "a=a+b\n",
    "b=a-b\n",
    "a=a-b\n",
    "print(a)\n",
    "print(b)"
   ]
  },
  {
   "cell_type": "code",
   "execution_count": 8,
   "id": "1493fcfb",
   "metadata": {},
   "outputs": [
    {
     "name": "stdout",
     "output_type": "stream",
     "text": [
      "enter the year:2017\n",
      "enter the month:7\n",
      "     July 2017\n",
      "Mo Tu We Th Fr Sa Su\n",
      "                1  2\n",
      " 3  4  5  6  7  8  9\n",
      "10 11 12 13 14 15 16\n",
      "17 18 19 20 21 22 23\n",
      "24 25 26 27 28 29 30\n",
      "31\n",
      "\n"
     ]
    }
   ],
   "source": [
    "#to display calendar\n",
    "import calendar  as cd\n",
    "year=int(input(\"enter the year:\"))\n",
    "m=int(input(\"enter the month:\"))\n",
    "print(cd.month(year,m))\n"
   ]
  },
  {
   "cell_type": "code",
   "execution_count": null,
   "id": "6681524b",
   "metadata": {},
   "outputs": [],
   "source": []
  }
 ],
 "metadata": {
  "kernelspec": {
   "display_name": "Python 3 (ipykernel)",
   "language": "python",
   "name": "python3"
  },
  "language_info": {
   "codemirror_mode": {
    "name": "ipython",
    "version": 3
   },
   "file_extension": ".py",
   "mimetype": "text/x-python",
   "name": "python",
   "nbconvert_exporter": "python",
   "pygments_lexer": "ipython3",
   "version": "3.9.7"
  }
 },
 "nbformat": 4,
 "nbformat_minor": 5
}
